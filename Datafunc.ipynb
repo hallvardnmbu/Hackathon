{
 "cells": [
  {
   "cell_type": "code",
   "execution_count": 1,
   "metadata": {},
   "outputs": [
    {
     "data": {
      "application/vnd.plotly.v1+json": {
       "config": {
        "plotlyServerURL": "https://plot.ly"
       },
       "data": [
        {
         "line": {
          "color": "red"
         },
         "mode": "lines",
         "type": "scatter",
         "x": [
          "2016-01-27 Kl. 00-01",
          "2016-01-27 Kl. 01-02",
          "2016-01-27 Kl. 02-03",
          "2016-01-27 Kl. 03-04",
          "2016-01-27 Kl. 04-05",
          "2016-01-27 Kl. 05-06",
          "2016-01-27 Kl. 06-07",
          "2016-01-27 Kl. 07-08",
          "2016-01-27 Kl. 08-09",
          "2016-01-27 Kl. 09-10",
          "2016-01-27 Kl. 10-11",
          "2016-01-27 Kl. 11-12",
          "2016-01-27 Kl. 12-13",
          "2016-01-27 Kl. 13-14",
          "2016-01-27 Kl. 14-15",
          "2016-01-27 Kl. 15-16",
          "2016-01-27 Kl. 16-17",
          "2016-01-27 Kl. 17-18",
          "2016-01-27 Kl. 18-19",
          "2016-01-27 Kl. 19-20",
          "2016-01-27 Kl. 20-21",
          "2016-01-27 Kl. 21-22",
          "2016-01-27 Kl. 22-23",
          "2016-01-27 Kl. 23-00",
          "2016-01-28 Kl. 00-01",
          "2016-01-28 Kl. 01-02",
          "2016-01-28 Kl. 02-03",
          "2016-01-28 Kl. 03-04",
          "2016-01-28 Kl. 04-05",
          "2016-01-28 Kl. 05-06",
          "2016-01-28 Kl. 06-07",
          "2016-01-28 Kl. 07-08",
          "2016-01-28 Kl. 08-09",
          "2016-01-28 Kl. 09-10",
          "2016-01-28 Kl. 10-11",
          "2016-01-28 Kl. 11-12",
          "2016-01-28 Kl. 12-13",
          "2016-01-28 Kl. 13-14",
          "2016-01-28 Kl. 14-15",
          "2016-01-28 Kl. 15-16",
          "2016-01-28 Kl. 16-17",
          "2016-01-28 Kl. 17-18",
          "2016-01-28 Kl. 18-19",
          "2016-01-28 Kl. 19-20",
          "2016-01-28 Kl. 20-21",
          "2016-01-28 Kl. 21-22",
          "2016-01-28 Kl. 22-23",
          "2016-01-28 Kl. 23-00",
          "2016-01-29 Kl. 00-01",
          "2016-01-29 Kl. 01-02",
          "2016-01-29 Kl. 02-03",
          "2016-01-29 Kl. 03-04",
          "2016-01-29 Kl. 04-05",
          "2016-01-29 Kl. 05-06",
          "2016-01-29 Kl. 06-07",
          "2016-01-29 Kl. 07-08",
          "2016-01-29 Kl. 08-09",
          "2016-01-29 Kl. 09-10",
          "2016-01-29 Kl. 10-11",
          "2016-01-29 Kl. 11-12",
          "2016-01-29 Kl. 12-13",
          "2016-01-29 Kl. 13-14",
          "2016-01-29 Kl. 14-15",
          "2016-01-29 Kl. 15-16",
          "2016-01-29 Kl. 16-17",
          "2016-01-29 Kl. 17-18",
          "2016-01-29 Kl. 18-19",
          "2016-01-29 Kl. 19-20",
          "2016-01-29 Kl. 20-21",
          "2016-01-29 Kl. 21-22",
          "2016-01-29 Kl. 22-23",
          "2016-01-29 Kl. 23-00",
          "2016-01-30 Kl. 00-01",
          "2016-01-30 Kl. 01-02",
          "2016-01-30 Kl. 02-03",
          "2016-01-30 Kl. 03-04",
          "2016-01-30 Kl. 04-05",
          "2016-01-30 Kl. 05-06",
          "2016-01-30 Kl. 06-07",
          "2016-01-30 Kl. 07-08",
          "2016-01-30 Kl. 08-09",
          "2016-01-30 Kl. 09-10",
          "2016-01-30 Kl. 10-11",
          "2016-01-30 Kl. 11-12",
          "2016-01-30 Kl. 12-13",
          "2016-01-30 Kl. 13-14",
          "2016-01-30 Kl. 14-15",
          "2016-01-30 Kl. 15-16",
          "2016-01-30 Kl. 16-17",
          "2016-01-30 Kl. 17-18",
          "2016-01-30 Kl. 18-19",
          "2016-01-30 Kl. 19-20",
          "2016-01-30 Kl. 20-21",
          "2016-01-30 Kl. 21-22",
          "2016-01-30 Kl. 22-23",
          "2016-01-30 Kl. 23-00",
          "2016-01-31 Kl. 00-01",
          "2016-01-31 Kl. 01-02",
          "2016-01-31 Kl. 02-03",
          "2016-01-31 Kl. 03-04",
          "2016-01-31 Kl. 04-05",
          "2016-01-31 Kl. 05-06",
          "2016-01-31 Kl. 06-07",
          "2016-01-31 Kl. 07-08",
          "2016-01-31 Kl. 08-09",
          "2016-01-31 Kl. 09-10",
          "2016-01-31 Kl. 10-11",
          "2016-01-31 Kl. 11-12",
          "2016-01-31 Kl. 12-13",
          "2016-01-31 Kl. 13-14",
          "2016-01-31 Kl. 14-15",
          "2016-01-31 Kl. 15-16",
          "2016-01-31 Kl. 16-17",
          "2016-01-31 Kl. 17-18",
          "2016-01-31 Kl. 18-19",
          "2016-01-31 Kl. 19-20",
          "2016-01-31 Kl. 20-21",
          "2016-01-31 Kl. 21-22",
          "2016-01-31 Kl. 22-23",
          "2016-01-31 Kl. 23-00",
          "2016-02-01 Kl. 00-01",
          "2016-02-01 Kl. 01-02",
          "2016-02-01 Kl. 02-03",
          "2016-02-01 Kl. 03-04",
          "2016-02-01 Kl. 04-05",
          "2016-02-01 Kl. 05-06",
          "2016-02-01 Kl. 06-07",
          "2016-02-01 Kl. 07-08",
          "2016-02-01 Kl. 08-09",
          "2016-02-01 Kl. 09-10",
          "2016-02-01 Kl. 10-11",
          "2016-02-01 Kl. 11-12",
          "2016-02-01 Kl. 12-13",
          "2016-02-01 Kl. 13-14",
          "2016-02-01 Kl. 14-15",
          "2016-02-01 Kl. 15-16"
         ],
         "y": [
          0.17443,
          0.17075,
          0.16993,
          0.16731,
          0.16506,
          0.18059,
          0.19895,
          0.20998,
          0.21281,
          0.21151,
          0.21199,
          0.20985,
          0.20843,
          0.20926,
          0.20926,
          0.20879,
          0.21128,
          0.21448,
          0.21199,
          0.20843,
          0.20488,
          0.20286,
          0.19363,
          0.17858,
          0.1785,
          0.17294,
          0.16879,
          0.16844,
          0.16986,
          0.19249,
          0.20326,
          0.20811,
          0.21191,
          0.21084,
          0.2106,
          0.20919,
          0.20788,
          0.20811,
          0.20753,
          0.20835,
          0.21025,
          0.21534,
          0.21155,
          0.20776,
          0.20385,
          0.2022,
          0.19544,
          0.18976,
          0.18971,
          0.18439,
          0.18133,
          0.1831,
          0.18451,
          0.19266,
          0.20058,
          0.20695,
          0.21015,
          0.20849,
          0.20673,
          0.20436,
          0.20129,
          0.1975,
          0.19503,
          0.19136,
          0.19325,
          0.19774,
          0.19633,
          0.19065,
          0.18191,
          0.17955,
          0.17246,
          0.15911,
          0.16711,
          0.16865,
          0.16783,
          0.1664,
          0.14871,
          0.155,
          0.17329,
          0.17755,
          0.17815,
          0.18254,
          0.18575,
          0.18621,
          0.18396,
          0.18183,
          0.17958,
          0.18243,
          0.19595,
          0.21031,
          0.20854,
          0.20403,
          0.19928,
          0.19239,
          0.18385,
          0.17541,
          0.18214,
          0.18049,
          0.1786,
          0.17931,
          0.18049,
          0.18166,
          0.18531,
          0.18568,
          0.18685,
          0.19286,
          0.19415,
          0.1938,
          0.19345,
          0.19168,
          0.1905,
          0.19333,
          0.20299,
          0.21454,
          0.2176,
          0.21619,
          0.21241,
          0.20746,
          0.20594,
          0.1938,
          0.19215,
          0.18179,
          0.18344,
          0.18544,
          0.1918,
          0.20594,
          0.2216,
          0.30206,
          0.41351,
          0.25023,
          0.2322,
          0.22266,
          0.21901,
          0.21665,
          0.21406,
          0.21171
         ]
        }
       ],
       "layout": {
        "height": 600,
        "showlegend": false,
        "template": {
         "data": {
          "bar": [
           {
            "error_x": {
             "color": "#2a3f5f"
            },
            "error_y": {
             "color": "#2a3f5f"
            },
            "marker": {
             "line": {
              "color": "#E5ECF6",
              "width": 0.5
             },
             "pattern": {
              "fillmode": "overlay",
              "size": 10,
              "solidity": 0.2
             }
            },
            "type": "bar"
           }
          ],
          "barpolar": [
           {
            "marker": {
             "line": {
              "color": "#E5ECF6",
              "width": 0.5
             },
             "pattern": {
              "fillmode": "overlay",
              "size": 10,
              "solidity": 0.2
             }
            },
            "type": "barpolar"
           }
          ],
          "carpet": [
           {
            "aaxis": {
             "endlinecolor": "#2a3f5f",
             "gridcolor": "white",
             "linecolor": "white",
             "minorgridcolor": "white",
             "startlinecolor": "#2a3f5f"
            },
            "baxis": {
             "endlinecolor": "#2a3f5f",
             "gridcolor": "white",
             "linecolor": "white",
             "minorgridcolor": "white",
             "startlinecolor": "#2a3f5f"
            },
            "type": "carpet"
           }
          ],
          "choropleth": [
           {
            "colorbar": {
             "outlinewidth": 0,
             "ticks": ""
            },
            "type": "choropleth"
           }
          ],
          "contour": [
           {
            "colorbar": {
             "outlinewidth": 0,
             "ticks": ""
            },
            "colorscale": [
             [
              0,
              "#0d0887"
             ],
             [
              0.1111111111111111,
              "#46039f"
             ],
             [
              0.2222222222222222,
              "#7201a8"
             ],
             [
              0.3333333333333333,
              "#9c179e"
             ],
             [
              0.4444444444444444,
              "#bd3786"
             ],
             [
              0.5555555555555556,
              "#d8576b"
             ],
             [
              0.6666666666666666,
              "#ed7953"
             ],
             [
              0.7777777777777778,
              "#fb9f3a"
             ],
             [
              0.8888888888888888,
              "#fdca26"
             ],
             [
              1,
              "#f0f921"
             ]
            ],
            "type": "contour"
           }
          ],
          "contourcarpet": [
           {
            "colorbar": {
             "outlinewidth": 0,
             "ticks": ""
            },
            "type": "contourcarpet"
           }
          ],
          "heatmap": [
           {
            "colorbar": {
             "outlinewidth": 0,
             "ticks": ""
            },
            "colorscale": [
             [
              0,
              "#0d0887"
             ],
             [
              0.1111111111111111,
              "#46039f"
             ],
             [
              0.2222222222222222,
              "#7201a8"
             ],
             [
              0.3333333333333333,
              "#9c179e"
             ],
             [
              0.4444444444444444,
              "#bd3786"
             ],
             [
              0.5555555555555556,
              "#d8576b"
             ],
             [
              0.6666666666666666,
              "#ed7953"
             ],
             [
              0.7777777777777778,
              "#fb9f3a"
             ],
             [
              0.8888888888888888,
              "#fdca26"
             ],
             [
              1,
              "#f0f921"
             ]
            ],
            "type": "heatmap"
           }
          ],
          "heatmapgl": [
           {
            "colorbar": {
             "outlinewidth": 0,
             "ticks": ""
            },
            "colorscale": [
             [
              0,
              "#0d0887"
             ],
             [
              0.1111111111111111,
              "#46039f"
             ],
             [
              0.2222222222222222,
              "#7201a8"
             ],
             [
              0.3333333333333333,
              "#9c179e"
             ],
             [
              0.4444444444444444,
              "#bd3786"
             ],
             [
              0.5555555555555556,
              "#d8576b"
             ],
             [
              0.6666666666666666,
              "#ed7953"
             ],
             [
              0.7777777777777778,
              "#fb9f3a"
             ],
             [
              0.8888888888888888,
              "#fdca26"
             ],
             [
              1,
              "#f0f921"
             ]
            ],
            "type": "heatmapgl"
           }
          ],
          "histogram": [
           {
            "marker": {
             "pattern": {
              "fillmode": "overlay",
              "size": 10,
              "solidity": 0.2
             }
            },
            "type": "histogram"
           }
          ],
          "histogram2d": [
           {
            "colorbar": {
             "outlinewidth": 0,
             "ticks": ""
            },
            "colorscale": [
             [
              0,
              "#0d0887"
             ],
             [
              0.1111111111111111,
              "#46039f"
             ],
             [
              0.2222222222222222,
              "#7201a8"
             ],
             [
              0.3333333333333333,
              "#9c179e"
             ],
             [
              0.4444444444444444,
              "#bd3786"
             ],
             [
              0.5555555555555556,
              "#d8576b"
             ],
             [
              0.6666666666666666,
              "#ed7953"
             ],
             [
              0.7777777777777778,
              "#fb9f3a"
             ],
             [
              0.8888888888888888,
              "#fdca26"
             ],
             [
              1,
              "#f0f921"
             ]
            ],
            "type": "histogram2d"
           }
          ],
          "histogram2dcontour": [
           {
            "colorbar": {
             "outlinewidth": 0,
             "ticks": ""
            },
            "colorscale": [
             [
              0,
              "#0d0887"
             ],
             [
              0.1111111111111111,
              "#46039f"
             ],
             [
              0.2222222222222222,
              "#7201a8"
             ],
             [
              0.3333333333333333,
              "#9c179e"
             ],
             [
              0.4444444444444444,
              "#bd3786"
             ],
             [
              0.5555555555555556,
              "#d8576b"
             ],
             [
              0.6666666666666666,
              "#ed7953"
             ],
             [
              0.7777777777777778,
              "#fb9f3a"
             ],
             [
              0.8888888888888888,
              "#fdca26"
             ],
             [
              1,
              "#f0f921"
             ]
            ],
            "type": "histogram2dcontour"
           }
          ],
          "mesh3d": [
           {
            "colorbar": {
             "outlinewidth": 0,
             "ticks": ""
            },
            "type": "mesh3d"
           }
          ],
          "parcoords": [
           {
            "line": {
             "colorbar": {
              "outlinewidth": 0,
              "ticks": ""
             }
            },
            "type": "parcoords"
           }
          ],
          "pie": [
           {
            "automargin": true,
            "type": "pie"
           }
          ],
          "scatter": [
           {
            "fillpattern": {
             "fillmode": "overlay",
             "size": 10,
             "solidity": 0.2
            },
            "type": "scatter"
           }
          ],
          "scatter3d": [
           {
            "line": {
             "colorbar": {
              "outlinewidth": 0,
              "ticks": ""
             }
            },
            "marker": {
             "colorbar": {
              "outlinewidth": 0,
              "ticks": ""
             }
            },
            "type": "scatter3d"
           }
          ],
          "scattercarpet": [
           {
            "marker": {
             "colorbar": {
              "outlinewidth": 0,
              "ticks": ""
             }
            },
            "type": "scattercarpet"
           }
          ],
          "scattergeo": [
           {
            "marker": {
             "colorbar": {
              "outlinewidth": 0,
              "ticks": ""
             }
            },
            "type": "scattergeo"
           }
          ],
          "scattergl": [
           {
            "marker": {
             "colorbar": {
              "outlinewidth": 0,
              "ticks": ""
             }
            },
            "type": "scattergl"
           }
          ],
          "scattermapbox": [
           {
            "marker": {
             "colorbar": {
              "outlinewidth": 0,
              "ticks": ""
             }
            },
            "type": "scattermapbox"
           }
          ],
          "scatterpolar": [
           {
            "marker": {
             "colorbar": {
              "outlinewidth": 0,
              "ticks": ""
             }
            },
            "type": "scatterpolar"
           }
          ],
          "scatterpolargl": [
           {
            "marker": {
             "colorbar": {
              "outlinewidth": 0,
              "ticks": ""
             }
            },
            "type": "scatterpolargl"
           }
          ],
          "scatterternary": [
           {
            "marker": {
             "colorbar": {
              "outlinewidth": 0,
              "ticks": ""
             }
            },
            "type": "scatterternary"
           }
          ],
          "surface": [
           {
            "colorbar": {
             "outlinewidth": 0,
             "ticks": ""
            },
            "colorscale": [
             [
              0,
              "#0d0887"
             ],
             [
              0.1111111111111111,
              "#46039f"
             ],
             [
              0.2222222222222222,
              "#7201a8"
             ],
             [
              0.3333333333333333,
              "#9c179e"
             ],
             [
              0.4444444444444444,
              "#bd3786"
             ],
             [
              0.5555555555555556,
              "#d8576b"
             ],
             [
              0.6666666666666666,
              "#ed7953"
             ],
             [
              0.7777777777777778,
              "#fb9f3a"
             ],
             [
              0.8888888888888888,
              "#fdca26"
             ],
             [
              1,
              "#f0f921"
             ]
            ],
            "type": "surface"
           }
          ],
          "table": [
           {
            "cells": {
             "fill": {
              "color": "#EBF0F8"
             },
             "line": {
              "color": "white"
             }
            },
            "header": {
             "fill": {
              "color": "#C8D4E3"
             },
             "line": {
              "color": "white"
             }
            },
            "type": "table"
           }
          ]
         },
         "layout": {
          "annotationdefaults": {
           "arrowcolor": "#2a3f5f",
           "arrowhead": 0,
           "arrowwidth": 1
          },
          "autotypenumbers": "strict",
          "coloraxis": {
           "colorbar": {
            "outlinewidth": 0,
            "ticks": ""
           }
          },
          "colorscale": {
           "diverging": [
            [
             0,
             "#8e0152"
            ],
            [
             0.1,
             "#c51b7d"
            ],
            [
             0.2,
             "#de77ae"
            ],
            [
             0.3,
             "#f1b6da"
            ],
            [
             0.4,
             "#fde0ef"
            ],
            [
             0.5,
             "#f7f7f7"
            ],
            [
             0.6,
             "#e6f5d0"
            ],
            [
             0.7,
             "#b8e186"
            ],
            [
             0.8,
             "#7fbc41"
            ],
            [
             0.9,
             "#4d9221"
            ],
            [
             1,
             "#276419"
            ]
           ],
           "sequential": [
            [
             0,
             "#0d0887"
            ],
            [
             0.1111111111111111,
             "#46039f"
            ],
            [
             0.2222222222222222,
             "#7201a8"
            ],
            [
             0.3333333333333333,
             "#9c179e"
            ],
            [
             0.4444444444444444,
             "#bd3786"
            ],
            [
             0.5555555555555556,
             "#d8576b"
            ],
            [
             0.6666666666666666,
             "#ed7953"
            ],
            [
             0.7777777777777778,
             "#fb9f3a"
            ],
            [
             0.8888888888888888,
             "#fdca26"
            ],
            [
             1,
             "#f0f921"
            ]
           ],
           "sequentialminus": [
            [
             0,
             "#0d0887"
            ],
            [
             0.1111111111111111,
             "#46039f"
            ],
            [
             0.2222222222222222,
             "#7201a8"
            ],
            [
             0.3333333333333333,
             "#9c179e"
            ],
            [
             0.4444444444444444,
             "#bd3786"
            ],
            [
             0.5555555555555556,
             "#d8576b"
            ],
            [
             0.6666666666666666,
             "#ed7953"
            ],
            [
             0.7777777777777778,
             "#fb9f3a"
            ],
            [
             0.8888888888888888,
             "#fdca26"
            ],
            [
             1,
             "#f0f921"
            ]
           ]
          },
          "colorway": [
           "#636efa",
           "#EF553B",
           "#00cc96",
           "#ab63fa",
           "#FFA15A",
           "#19d3f3",
           "#FF6692",
           "#B6E880",
           "#FF97FF",
           "#FECB52"
          ],
          "font": {
           "color": "#2a3f5f"
          },
          "geo": {
           "bgcolor": "white",
           "lakecolor": "white",
           "landcolor": "#E5ECF6",
           "showlakes": true,
           "showland": true,
           "subunitcolor": "white"
          },
          "hoverlabel": {
           "align": "left"
          },
          "hovermode": "closest",
          "mapbox": {
           "style": "light"
          },
          "paper_bgcolor": "white",
          "plot_bgcolor": "#E5ECF6",
          "polar": {
           "angularaxis": {
            "gridcolor": "white",
            "linecolor": "white",
            "ticks": ""
           },
           "bgcolor": "#E5ECF6",
           "radialaxis": {
            "gridcolor": "white",
            "linecolor": "white",
            "ticks": ""
           }
          },
          "scene": {
           "xaxis": {
            "backgroundcolor": "#E5ECF6",
            "gridcolor": "white",
            "gridwidth": 2,
            "linecolor": "white",
            "showbackground": true,
            "ticks": "",
            "zerolinecolor": "white"
           },
           "yaxis": {
            "backgroundcolor": "#E5ECF6",
            "gridcolor": "white",
            "gridwidth": 2,
            "linecolor": "white",
            "showbackground": true,
            "ticks": "",
            "zerolinecolor": "white"
           },
           "zaxis": {
            "backgroundcolor": "#E5ECF6",
            "gridcolor": "white",
            "gridwidth": 2,
            "linecolor": "white",
            "showbackground": true,
            "ticks": "",
            "zerolinecolor": "white"
           }
          },
          "shapedefaults": {
           "line": {
            "color": "#2a3f5f"
           }
          },
          "ternary": {
           "aaxis": {
            "gridcolor": "white",
            "linecolor": "white",
            "ticks": ""
           },
           "baxis": {
            "gridcolor": "white",
            "linecolor": "white",
            "ticks": ""
           },
           "bgcolor": "#E5ECF6",
           "caxis": {
            "gridcolor": "white",
            "linecolor": "white",
            "ticks": ""
           }
          },
          "title": {
           "x": 0.05
          },
          "xaxis": {
           "automargin": true,
           "gridcolor": "white",
           "linecolor": "white",
           "ticks": "",
           "title": {
            "standoff": 15
           },
           "zerolinecolor": "white",
           "zerolinewidth": 2
          },
          "yaxis": {
           "automargin": true,
           "gridcolor": "white",
           "linecolor": "white",
           "ticks": "",
           "title": {
            "standoff": 15
           },
           "zerolinecolor": "white",
           "zerolinewidth": 2
          }
         }
        },
        "title": {
         "text": "Spotpris Over Tid"
        },
        "width": 800,
        "xaxis": {
         "title": {
          "text": "Klokkeslett"
         }
        },
        "yaxis": {
         "title": {
          "text": "Spotpris"
         }
        }
       }
      }
     },
     "metadata": {},
     "output_type": "display_data"
    }
   ],
   "source": [
    "import pandas as pd\n",
    "import numpy as np\n",
    "import plotly.graph_objs as go\n",
    "\n",
    "def datafunc(filename,cols):\n",
    "\n",
    "    #cols = list with columnames as string [\"Tidsintervall\", \"Spotpris\"]\n",
    "    data= pd.read_csv(filename,encoding=\"UTF-8\", sep=\";\", usecols=cols)\n",
    "\n",
    "    #creates empty dictionary\n",
    "    d={}\n",
    "    \n",
    "    for index, row in data.iterrows():\n",
    "        timeint= row[cols[0]]\n",
    "        Spotpris= row[cols[1]]\n",
    "        Spotpris= float(Spotpris.replace(\",\",\".\"))\n",
    "\n",
    "        d[timeint]=Spotpris\n",
    "    \n",
    "\n",
    "    sorted_dict = dict(sorted(d.items(),key=lambda x:(x[1]), reverse=True)) \n",
    "    \n",
    "    #plotting\n",
    "    data = d\n",
    "    xs = []\n",
    "    ys = []\n",
    "\n",
    "    for key, value in data.items():\n",
    "        xs.append(key)\n",
    "        ys.append(value)\n",
    "\n",
    "    # Create a Plotly scatter plot trace\n",
    "    trace = go.Scatter(x=xs, y=ys, mode='lines', line=dict(color='red'))\n",
    "\n",
    "    # Create the layout for the plot\n",
    "    layout = go.Layout(\n",
    "        title='Spotpris Over Tid',\n",
    "        xaxis=dict(title='Klokkeslett'),\n",
    "        yaxis=dict(title='Spotpris'),\n",
    "        showlegend=False,\n",
    "        width=800,\n",
    "        height=600)\n",
    "\n",
    "    # Create a Plotly figure and add the trace with the layout\n",
    "    fig = go.Figure(data=[trace], layout=layout)\n",
    "\n",
    "    # Display the plot\n",
    "    fig.show()\n",
    "\n",
    "\n",
    "\n",
    "\n",
    "datafunc(\"test.csv\",[\"Dato/klokkeslett\",\"NO5\"])"
   ]
  },
  {
   "cell_type": "code",
   "execution_count": null,
   "metadata": {},
   "outputs": [],
   "source": []
  },
  {
   "cell_type": "code",
   "execution_count": null,
   "metadata": {},
   "outputs": [],
   "source": []
  }
 ],
 "metadata": {
  "kernelspec": {
   "display_name": "Python 3.10.7 ('.venv': venv)",
   "language": "python",
   "name": "python3"
  },
  "language_info": {
   "codemirror_mode": {
    "name": "ipython",
    "version": 3
   },
   "file_extension": ".py",
   "mimetype": "text/x-python",
   "name": "python",
   "nbconvert_exporter": "python",
   "pygments_lexer": "ipython3",
   "version": "3.10.7"
  },
  "orig_nbformat": 4,
  "vscode": {
   "interpreter": {
    "hash": "fda6ed7ab5c43d147ad0273c994c59093328c5b7757f50240318b537ac8db872"
   }
  }
 },
 "nbformat": 4,
 "nbformat_minor": 2
}
