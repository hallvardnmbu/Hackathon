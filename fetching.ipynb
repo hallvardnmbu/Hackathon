{
 "cells": [
  {
   "cell_type": "code",
   "execution_count": 1,
   "id": "initial_id",
   "metadata": {
    "collapsed": true,
    "ExecuteTime": {
     "end_time": "2023-09-27T12:46:12.425504Z",
     "start_time": "2023-09-27T12:46:12.119642Z"
    }
   },
   "outputs": [],
   "source": [
    "from src.weather import WeatherData\n",
    "from src.combining import CombineData"
   ]
  },
  {
   "cell_type": "code",
   "execution_count": 2,
   "outputs": [],
   "source": [
    "FROST_ID = open('./secrets/frost_id','r').read()\n",
    "URL = 'https://frost.met.no/observations/v0.jsonld'\n",
    "\n",
    "STATIONS = [\"SN50540\", \"SN50539\", \"SN50480\", \"SN53160\", \"SN51530\"]\n",
    "ELEMENTS = \"air_temperature, wind_speed, sum(precipitation_amount P1D)\"\n",
    "TIME = \"2016-01-01/2023-09-01\"\n",
    "\n",
    "SAVE_TO_WEATHER = './data/weather_data.csv'\n",
    "\n",
    "SPOT_PATH = \"./data/spot_price.csv\"\n",
    "WEATHER_PATH = \"./data/weather_data.csv\"\n",
    "\n",
    "SAVE_TO_COMBINED = \"./data/combined_data.csv\""
   ],
   "metadata": {
    "collapsed": false,
    "ExecuteTime": {
     "end_time": "2023-09-27T12:46:12.882135Z",
     "start_time": "2023-09-27T12:46:12.877736Z"
    }
   },
   "id": "2e7639046979a7cf"
  },
  {
   "cell_type": "code",
   "execution_count": 3,
   "outputs": [],
   "source": [
    "weather = WeatherData(STATIONS, ELEMENTS, TIME, FROST_ID, URL)\n",
    "weather.clean()\n",
    "\n",
    "weather.save(SAVE_TO_WEATHER)"
   ],
   "metadata": {
    "collapsed": false,
    "ExecuteTime": {
     "end_time": "2023-09-27T10:29:02.943866Z",
     "start_time": "2023-09-27T10:17:03.467628Z"
    }
   },
   "id": "ea14cc888166dcc7"
  },
  {
   "cell_type": "code",
   "execution_count": 3,
   "outputs": [
    {
     "name": "stderr",
     "output_type": "stream",
     "text": [
      "/Users/Mac/Desktop/UNIVERSITET/Annet/KODE/Hackaton/src/combining.py:33: FutureWarning: The default value of numeric_only in DataFrameGroupBy.mean is deprecated. In a future version, numeric_only will default to False. Either specify numeric_only or select only columns which should be valid for the function.\n",
      "  self.spot_df = spot.resample('H').mean()\n"
     ]
    }
   ],
   "source": [
    "combine = CombineData(SPOT_PATH, WEATHER_PATH)\n",
    "\n",
    "combine.save(SAVE_TO_COMBINED)"
   ],
   "metadata": {
    "collapsed": false,
    "ExecuteTime": {
     "end_time": "2023-09-27T12:46:17.626815Z",
     "start_time": "2023-09-27T12:46:15.117794Z"
    }
   },
   "id": "fb5b1403e1a6ddfd"
  },
  {
   "cell_type": "code",
   "execution_count": null,
   "outputs": [],
   "source": [],
   "metadata": {
    "collapsed": false
   },
   "id": "6dbdf14e4b56fbce"
  }
 ],
 "metadata": {
  "kernelspec": {
   "display_name": "Python 3",
   "language": "python",
   "name": "python3"
  },
  "language_info": {
   "codemirror_mode": {
    "name": "ipython",
    "version": 2
   },
   "file_extension": ".py",
   "mimetype": "text/x-python",
   "name": "python",
   "nbconvert_exporter": "python",
   "pygments_lexer": "ipython2",
   "version": "2.7.6"
  }
 },
 "nbformat": 4,
 "nbformat_minor": 5
}
