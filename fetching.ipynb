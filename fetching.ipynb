{
 "cells": [
  {
   "cell_type": "code",
   "execution_count": 1,
   "id": "initial_id",
   "metadata": {
    "collapsed": true,
    "ExecuteTime": {
     "end_time": "2023-09-27T09:21:52.466701Z",
     "start_time": "2023-09-27T09:21:52.124288Z"
    }
   },
   "outputs": [],
   "source": [
    "from src.weather import WeatherData"
   ]
  },
  {
   "cell_type": "code",
   "execution_count": 2,
   "outputs": [],
   "source": [
    "FROST_ID = open('./secrets/frost_id','r').read()\n",
    "URL = 'https://frost.met.no/observations/v0.jsonld'\n",
    "\n",
    "STATIONS = [\"SN50540\", \"SN50539\", \"SN50480\", \"SN53160\", \"SN51530\"]\n",
    "ELEMENTS = (\"mean(air_temperature P1D), \"\n",
    "            \"sum(precipitation_amount P1D), \"\n",
    "            \"mean(wind_speed P1D)\")\n",
    "TIME = \"2016-01-01/2023-09-01\"\n",
    "\n",
    "SAVE_TO = './data/weather_data.csv'"
   ],
   "metadata": {
    "collapsed": false,
    "ExecuteTime": {
     "end_time": "2023-09-27T09:21:52.469800Z",
     "start_time": "2023-09-27T09:21:52.466505Z"
    }
   },
   "id": "2e7639046979a7cf"
  },
  {
   "cell_type": "code",
   "execution_count": 3,
   "outputs": [],
   "source": [
    "weather = WeatherData(STATIONS, ELEMENTS, TIME, FROST_ID, URL)\n",
    "weather.clean()\n",
    "\n",
    "weather.save(SAVE_TO)"
   ],
   "metadata": {
    "collapsed": false,
    "ExecuteTime": {
     "end_time": "2023-09-27T09:22:31.901485Z",
     "start_time": "2023-09-27T09:21:52.469477Z"
    }
   },
   "id": "ea14cc888166dcc7"
  }
 ],
 "metadata": {
  "kernelspec": {
   "display_name": "Python 3",
   "language": "python",
   "name": "python3"
  },
  "language_info": {
   "codemirror_mode": {
    "name": "ipython",
    "version": 2
   },
   "file_extension": ".py",
   "mimetype": "text/x-python",
   "name": "python",
   "nbconvert_exporter": "python",
   "pygments_lexer": "ipython2",
   "version": "2.7.6"
  }
 },
 "nbformat": 4,
 "nbformat_minor": 5
}
