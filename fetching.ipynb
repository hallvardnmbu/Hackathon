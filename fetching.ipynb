{
 "cells": [
  {
   "cell_type": "code",
   "execution_count": 1,
   "id": "initial_id",
   "metadata": {
    "collapsed": true,
    "ExecuteTime": {
     "end_time": "2023-09-27T14:18:14.358285Z",
     "start_time": "2023-09-27T14:18:13.908761Z"
    }
   },
   "outputs": [],
   "source": [
    "from src.weather import WeatherData\n",
    "from src.combining import CombineData"
   ]
  },
  {
   "cell_type": "code",
   "execution_count": 2,
   "outputs": [],
   "source": [
    "FROST_ID = open('./secrets/frost_id','r').read()\n",
    "URL = 'https://frost.met.no/observations/v0.jsonld'\n",
    "\n",
    "STATIONS = [\"SN53700\", \"SN50175\", \"SN50540\", \"SN54320\",\n",
    "            \"SN51470\", \"SN52400\", \"SN52170\", \"SN25830\",\n",
    "            \"SN49800\", \"SN53680\", \"SN57990\", \"SN54600\"]\n",
    "ELEMENTS = \"air_temperature, wind_speed, sum(precipitation_amount P1D)\"\n",
    "TIME = \"2016-01-01/2023-09-01\"\n",
    "\n",
    "SAVE_TO_WEATHER = './data/weather_data.csv'\n",
    "\n",
    "SPOT_PATH = \"./data/spot_price.csv\"\n",
    "WEATHER_PATH = \"./data/weather_data.csv\"\n",
    "\n",
    "SAVE_TO_COMBINED = \"./data/combined_data.csv\""
   ],
   "metadata": {
    "collapsed": false,
    "ExecuteTime": {
     "end_time": "2023-09-27T14:18:14.362212Z",
     "start_time": "2023-09-27T14:18:14.359042Z"
    }
   },
   "id": "2e7639046979a7cf"
  },
  {
   "cell_type": "code",
   "execution_count": 3,
   "outputs": [],
   "source": [
    "weather = WeatherData(STATIONS, ELEMENTS, TIME, FROST_ID, URL)\n",
    "weather.clean()\n",
    "\n",
    "weather.save(SAVE_TO_WEATHER)"
   ],
   "metadata": {
    "collapsed": false,
    "ExecuteTime": {
     "end_time": "2023-09-27T14:23:33.856593Z",
     "start_time": "2023-09-27T14:18:14.366553Z"
    }
   },
   "id": "ea14cc888166dcc7"
  },
  {
   "cell_type": "code",
   "execution_count": 4,
   "outputs": [],
   "source": [
    "combine = CombineData(SPOT_PATH, WEATHER_PATH)\n",
    "\n",
    "combine.save(SAVE_TO_COMBINED)"
   ],
   "metadata": {
    "collapsed": false,
    "ExecuteTime": {
     "end_time": "2023-09-27T14:23:39.822503Z",
     "start_time": "2023-09-27T14:23:33.855080Z"
    }
   },
   "id": "fb5b1403e1a6ddfd"
  }
 ],
 "metadata": {
  "kernelspec": {
   "display_name": "Python 3",
   "language": "python",
   "name": "python3"
  },
  "language_info": {
   "codemirror_mode": {
    "name": "ipython",
    "version": 2
   },
   "file_extension": ".py",
   "mimetype": "text/x-python",
   "name": "python",
   "nbconvert_exporter": "python",
   "pygments_lexer": "ipython2",
   "version": "2.7.6"
  }
 },
 "nbformat": 4,
 "nbformat_minor": 5
}
