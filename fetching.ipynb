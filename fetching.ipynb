{
 "cells": [
  {
   "cell_type": "code",
   "execution_count": 1,
   "id": "initial_id",
   "metadata": {
    "collapsed": true,
    "ExecuteTime": {
     "end_time": "2023-09-27T13:03:33.456783Z",
     "start_time": "2023-09-27T13:03:33.168286Z"
    }
   },
   "outputs": [],
   "source": [
    "from src.weather import WeatherData\n",
    "from src.combining import CombineData"
   ]
  },
  {
   "cell_type": "code",
   "execution_count": 2,
   "outputs": [],
   "source": [
    "FROST_ID = open('./secrets/frost_id','r').read()\n",
    "URL = 'https://frost.met.no/observations/v0.jsonld'\n",
    "\n",
    "STATIONS = [\"SN50540\", \"SN50539\", \"SN50480\", \"SN53160\", \"SN51530\"]\n",
    "ELEMENTS = \"air_temperature, wind_speed, sum(precipitation_amount P1D)\"\n",
    "TIME = \"2016-01-01/2023-09-01\"\n",
    "\n",
    "SAVE_TO_WEATHER = './data/weather_data.csv'\n",
    "\n",
    "SPOT_PATH = \"./data/spot_price.csv\"\n",
    "WEATHER_PATH = \"./data/weather_data.csv\"\n",
    "\n",
    "SAVE_TO_COMBINED = \"./data/combined_data.csv\""
   ],
   "metadata": {
    "collapsed": false,
    "ExecuteTime": {
     "end_time": "2023-09-27T13:03:33.911327Z",
     "start_time": "2023-09-27T13:03:33.908530Z"
    }
   },
   "id": "2e7639046979a7cf"
  },
  {
   "cell_type": "code",
   "execution_count": 3,
   "outputs": [],
   "source": [
    "weather = WeatherData(STATIONS, ELEMENTS, TIME, FROST_ID, URL)\n",
    "weather.clean()\n",
    "\n",
    "weather.save(SAVE_TO_WEATHER)"
   ],
   "metadata": {
    "collapsed": false,
    "ExecuteTime": {
     "end_time": "2023-09-27T10:29:02.943866Z",
     "start_time": "2023-09-27T10:17:03.467628Z"
    }
   },
   "id": "ea14cc888166dcc7"
  },
  {
   "cell_type": "code",
   "execution_count": 3,
   "outputs": [],
   "source": [
    "combine = CombineData(SPOT_PATH, WEATHER_PATH)\n",
    "\n",
    "combine.save(SAVE_TO_COMBINED)"
   ],
   "metadata": {
    "collapsed": false,
    "ExecuteTime": {
     "end_time": "2023-09-27T13:03:40.033386Z",
     "start_time": "2023-09-27T13:03:37.439323Z"
    }
   },
   "id": "fb5b1403e1a6ddfd"
  },
  {
   "cell_type": "code",
   "execution_count": 5,
   "outputs": [
    {
     "data": {
      "text/plain": "Empty DataFrame\nColumns: []\nIndex: [2016-01-27 00:00:00, 2016-01-27 01:00:00, 2016-01-27 02:00:00, 2016-01-27 03:00:00, 2016-01-27 04:00:00, 2016-01-27 05:00:00, 2016-01-27 06:00:00, 2016-01-27 07:00:00, 2016-01-27 08:00:00, 2016-01-27 09:00:00, 2016-01-27 10:00:00, 2016-01-27 11:00:00, 2016-01-27 12:00:00, 2016-01-27 13:00:00, 2016-01-27 14:00:00, 2016-01-27 15:00:00, 2016-01-27 16:00:00, 2016-01-27 17:00:00, 2016-01-27 18:00:00, 2016-01-27 19:00:00, 2016-01-27 20:00:00, 2016-01-27 21:00:00, 2016-01-27 22:00:00, 2016-01-27 23:00:00, 2016-01-28 00:00:00, 2016-01-28 01:00:00, 2016-01-28 02:00:00, 2016-01-28 03:00:00, 2016-01-28 04:00:00, 2016-01-28 05:00:00, 2016-01-28 06:00:00, 2016-01-28 07:00:00, 2016-01-28 08:00:00, 2016-01-28 09:00:00, 2016-01-28 10:00:00, 2016-01-28 11:00:00, 2016-01-28 12:00:00, 2016-01-28 13:00:00, 2016-01-28 14:00:00, 2016-01-28 15:00:00, 2016-01-28 16:00:00, 2016-01-28 17:00:00, 2016-01-28 18:00:00, 2016-01-28 19:00:00, 2016-01-28 20:00:00, 2016-01-28 21:00:00, 2016-01-28 22:00:00, 2016-01-28 23:00:00, 2016-01-29 00:00:00, 2016-01-29 01:00:00, 2016-01-29 02:00:00, 2016-01-29 03:00:00, 2016-01-29 04:00:00, 2016-01-29 05:00:00, 2016-01-29 06:00:00, 2016-01-29 07:00:00, 2016-01-29 08:00:00, 2016-01-29 09:00:00, 2016-01-29 10:00:00, 2016-01-29 11:00:00, 2016-01-29 12:00:00, 2016-01-29 13:00:00, 2016-01-29 14:00:00, 2016-01-29 15:00:00, 2016-01-29 16:00:00, 2016-01-29 17:00:00, 2016-01-29 18:00:00, 2016-01-29 19:00:00, 2016-01-29 20:00:00, 2016-01-29 21:00:00, 2016-01-29 22:00:00, 2016-01-29 23:00:00, 2016-01-30 00:00:00, 2016-01-30 01:00:00, 2016-01-30 02:00:00, 2016-01-30 03:00:00, 2016-01-30 04:00:00, 2016-01-30 05:00:00, 2016-01-30 06:00:00, 2016-01-30 07:00:00, 2016-01-30 08:00:00, 2016-01-30 09:00:00, 2016-01-30 10:00:00, 2016-01-30 11:00:00, 2016-01-30 12:00:00, 2016-01-30 13:00:00, 2016-01-30 14:00:00, 2016-01-30 15:00:00, 2016-01-30 16:00:00, 2016-01-30 17:00:00, 2016-01-30 18:00:00, 2016-01-30 19:00:00, 2016-01-30 20:00:00, 2016-01-30 21:00:00, 2016-01-30 22:00:00, 2016-01-30 23:00:00, 2016-01-31 00:00:00, 2016-01-31 01:00:00, 2016-01-31 02:00:00, 2016-01-31 03:00:00, ...]\n\n[67224 rows x 0 columns]",
      "text/html": "<div>\n<style scoped>\n    .dataframe tbody tr th:only-of-type {\n        vertical-align: middle;\n    }\n\n    .dataframe tbody tr th {\n        vertical-align: top;\n    }\n\n    .dataframe thead th {\n        text-align: right;\n    }\n</style>\n<table border=\"1\" class=\"dataframe\">\n  <thead>\n    <tr style=\"text-align: right;\">\n      <th></th>\n    </tr>\n    <tr>\n      <th>Dato/klokkeslett</th>\n    </tr>\n  </thead>\n  <tbody>\n    <tr>\n      <th>2016-01-27 00:00:00</th>\n    </tr>\n    <tr>\n      <th>2016-01-27 01:00:00</th>\n    </tr>\n    <tr>\n      <th>2016-01-27 02:00:00</th>\n    </tr>\n    <tr>\n      <th>2016-01-27 03:00:00</th>\n    </tr>\n    <tr>\n      <th>2016-01-27 04:00:00</th>\n    </tr>\n    <tr>\n      <th>...</th>\n    </tr>\n    <tr>\n      <th>2023-09-27 19:00:00</th>\n    </tr>\n    <tr>\n      <th>2023-09-27 20:00:00</th>\n    </tr>\n    <tr>\n      <th>2023-09-27 21:00:00</th>\n    </tr>\n    <tr>\n      <th>2023-09-27 22:00:00</th>\n    </tr>\n    <tr>\n      <th>2023-09-27 23:00:00</th>\n    </tr>\n  </tbody>\n</table>\n<p>67224 rows × 0 columns</p>\n</div>"
     },
     "execution_count": 5,
     "metadata": {},
     "output_type": "execute_result"
    }
   ],
   "source": [],
   "metadata": {
    "collapsed": false,
    "ExecuteTime": {
     "end_time": "2023-09-27T12:59:00.381404Z",
     "start_time": "2023-09-27T12:59:00.377737Z"
    }
   },
   "id": "6dbdf14e4b56fbce"
  }
 ],
 "metadata": {
  "kernelspec": {
   "display_name": "Python 3",
   "language": "python",
   "name": "python3"
  },
  "language_info": {
   "codemirror_mode": {
    "name": "ipython",
    "version": 2
   },
   "file_extension": ".py",
   "mimetype": "text/x-python",
   "name": "python",
   "nbconvert_exporter": "python",
   "pygments_lexer": "ipython2",
   "version": "2.7.6"
  }
 },
 "nbformat": 4,
 "nbformat_minor": 5
}
